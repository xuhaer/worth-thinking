{
 "cells": [
  {
   "cell_type": "markdown",
   "metadata": {},
   "source": [
    "## 相当于是一个阅读笔记吧，会将[wtfpython: A collection of surprising Python snippets and lesser-known features](https://github.com/satwikkansal/wtfpython) (中文版: [中文](https://github.com/leisurelicht/wtfpython-cn))中遇到一些我认为值得思考的代码片段记下来。"
   ]
  },
  {
   "cell_type": "markdown",
   "metadata": {},
   "source": [
    "## Section: Strain your brain!"
   ]
  },
  {
   "cell_type": "markdown",
   "metadata": {},
   "source": [
    "### >  Return return everywhere!"
   ]
  },
  {
   "cell_type": "code",
   "execution_count": 1,
   "metadata": {},
   "outputs": [],
   "source": [
    "def some_func():\n",
    "    try:\n",
    "        return 'from_try'\n",
    "    finally:\n",
    "        return 'from_finally'"
   ]
  },
  {
   "cell_type": "code",
   "execution_count": 2,
   "metadata": {},
   "outputs": [
    {
     "data": {
      "text/plain": [
       "'from_finally'"
      ]
     },
     "execution_count": 2,
     "metadata": {},
     "output_type": "execute_result"
    }
   ],
   "source": [
    "some_func()"
   ]
  },
  {
   "cell_type": "markdown",
   "metadata": {},
   "source": [
    "<hr>\n",
    "💡\n",
    "* <font color='red'>\"try...finally\" 语句的 try 中执行 return, break 或 continue 后, finally 子句依然会执行.</font>\n",
    "* 函数的返回值由最后执行的 return 语句决定. 所以 finally 子句中的 return 将是最后执行的语句.\n",
    "\n",
    "也就是说，尽量避免在try语句中写return语句(毕竟try 语句仅用来处理有可能出错的代码).\n",
    "\n",
    "另外，一些语言(如C#)会禁止你在finally 语句中 return."
   ]
  },
  {
   "cell_type": "markdown",
   "metadata": {},
   "source": [
    "### > For what?"
   ]
  },
  {
   "cell_type": "code",
   "execution_count": 3,
   "metadata": {},
   "outputs": [],
   "source": [
    "some_string = \"wtf\"\n",
    "some_dict = {}\n",
    "for i, some_dict[i] in enumerate(some_string):\n",
    "    pass"
   ]
  },
  {
   "cell_type": "code",
   "execution_count": 4,
   "metadata": {},
   "outputs": [
    {
     "data": {
      "text/plain": [
       "{0: 'w', 1: 't', 2: 'f'}"
      ]
     },
     "execution_count": 4,
     "metadata": {},
     "output_type": "execute_result"
    }
   ],
   "source": [
    "some_dict"
   ]
  },
  {
   "cell_type": "markdown",
   "metadata": {},
   "source": [
    "<hr>\n",
    "💡\n",
    "Python 语法 中对 for 的定义是:`for_stmt: 'for' exprlist 'in' testlist ':' suite ['else' ':' suite]`\n",
    "\n",
    "其中 exprlist 指分配目标. 这意味着对可迭代对象中的每一项都会执行类似 {exprlist} = {next_value} 的操作. 在上例中，每次循环都有some_dict[i] = enumerate(some_string)产生的字符串, 即 some_dict[0] = 'w', ...... "
   ]
  },
  {
   "cell_type": "markdown",
   "metadata": {},
   "source": [
    "一个例子：该循环只循环一次？"
   ]
  },
  {
   "cell_type": "code",
   "execution_count": 5,
   "metadata": {},
   "outputs": [
    {
     "name": "stdout",
     "output_type": "stream",
     "text": [
      "0\n",
      "1\n",
      "2\n",
      "3\n"
     ]
    }
   ],
   "source": [
    "for i in range(4):\n",
    "    print(i)\n",
    "    i = 10"
   ]
  },
  {
   "cell_type": "markdown",
   "metadata": {},
   "source": [
    "### > Evaluation time discrepancy/执行时机差异"
   ]
  },
  {
   "cell_type": "code",
   "execution_count": 6,
   "metadata": {},
   "outputs": [
    {
     "data": {
      "text/plain": [
       "[8]"
      ]
     },
     "execution_count": 6,
     "metadata": {},
     "output_type": "execute_result"
    }
   ],
   "source": [
    "array = [1, 8, 15]\n",
    "g = (x for x in array if array.count(x) == 1)\n",
    "array = [2, 8, 22]\n",
    "\n",
    "list(g)"
   ]
  },
  {
   "cell_type": "code",
   "execution_count": 7,
   "metadata": {},
   "outputs": [
    {
     "name": "stdout",
     "output_type": "stream",
     "text": [
      "[1, 2, 3, 4]\n",
      "[1, 2, 3, 4, 5]\n"
     ]
    }
   ],
   "source": [
    "array_1 = [1,2,3,4]\n",
    "g1 = (x for x in array_1)\n",
    "array_1 = [1,2,3,4,5]\n",
    "\n",
    "array_2 = [1,2,3,4]\n",
    "g2 = (x for x in array_2)\n",
    "array_2[:] = [1,2,3,4,5]\n",
    "\n",
    "print(list(g1))\n",
    "print(list(g2))"
   ]
  },
  {
   "cell_type": "markdown",
   "metadata": {},
   "source": [
    "💡 \n",
    "\n",
    "* 在生成器表达式中, in 子句在声明时执行, 而条件子句则是在运行时执行.\n",
    "* 所以在运行前, array 已经被重新赋值为 [2, 8, 22], 因此对于之前的 1, 8 和 15, 只有 count(8) 的结果是等于 1 的, 所以生成器只会生成 8. <font color='red'>???</font>\n",
    "* 第二部分中 g1 和 g2 的输出差异则是由于变量 array_1 和 array_2 被重新赋值的方式导致的.\n",
    "* 在第一种情况下, array_1 被绑定到新对象 [1,2,3,4,5], 因为 in 子句是在声明时被执行的， 所以它仍然引用旧对象 [1,2,3,4](并没有被销毁).\n",
    "* 在第二种情况下, 对 array_2 的切片赋值将相同的旧对象 [1,2,3,4] 原地更新为 [1,2,3,4,5]. 因此 g2 和 array_2 仍然引用同一个对象(这个对象现在已经更新为 [1,2,3,4,5])."
   ]
  },
  {
   "cell_type": "markdown",
   "metadata": {},
   "source": [
    "### > What's wrong with booleans?"
   ]
  },
  {
   "cell_type": "code",
   "execution_count": 8,
   "metadata": {},
   "outputs": [],
   "source": [
    "# 一个简单的例子, 统计下面可迭代对象中的布尔型值的个数和整型值的个数\n",
    "mixed_list = [False, 1.0, \"some_string\", 3, True, [], False]\n",
    "integers_found_so_far = 0\n",
    "booleans_found_so_far = 0\n",
    "\n",
    "for item in mixed_list:\n",
    "    if isinstance(item, int):\n",
    "        integers_found_so_far += 1\n",
    "    elif isinstance(item, bool):\n",
    "        booleans_found_so_far += 1"
   ]
  },
  {
   "cell_type": "code",
   "execution_count": 9,
   "metadata": {},
   "outputs": [
    {
     "data": {
      "text/plain": [
       "(4, 0)"
      ]
     },
     "execution_count": 9,
     "metadata": {},
     "output_type": "execute_result"
    }
   ],
   "source": [
    "integers_found_so_far, booleans_found_so_far"
   ]
  },
  {
   "cell_type": "code",
   "execution_count": 10,
   "metadata": {},
   "outputs": [],
   "source": [
    "another_dict = {}\n",
    "another_dict[True] = \"JavaScript\"\n",
    "another_dict[1] = \"Ruby\"\n",
    "another_dict[1.0] = \"Python\""
   ]
  },
  {
   "cell_type": "code",
   "execution_count": 11,
   "metadata": {},
   "outputs": [
    {
     "data": {
      "text/plain": [
       "'Python'"
      ]
     },
     "execution_count": 11,
     "metadata": {},
     "output_type": "execute_result"
    }
   ],
   "source": [
    "another_dict[True]"
   ]
  },
  {
   "cell_type": "code",
   "execution_count": 12,
   "metadata": {},
   "outputs": [
    {
     "data": {
      "text/plain": [
       "''"
      ]
     },
     "execution_count": 12,
     "metadata": {},
     "output_type": "execute_result"
    }
   ],
   "source": [
    ">>> some_bool = True\n",
    ">>> \"wtf\"*some_bool\n",
    "'wtf'\n",
    ">>> some_bool = False\n",
    ">>> \"wtf\"*some_bool\n",
    "''"
   ]
  },
  {
   "cell_type": "markdown",
   "metadata": {},
   "source": [
    "💡\n",
    "* 布尔值是 int 的子类\n",
    "* 所以 True 的整数值是 1, 而 False 的整数值是 0."
   ]
  },
  {
   "cell_type": "code",
   "execution_count": null,
   "metadata": {},
   "outputs": [],
   "source": []
  }
 ],
 "metadata": {
  "kernelspec": {
   "display_name": "data_analysis",
   "language": "python",
   "name": "data_analysis"
  },
  "language_info": {
   "codemirror_mode": {
    "name": "ipython",
    "version": 3
   },
   "file_extension": ".py",
   "mimetype": "text/x-python",
   "name": "python",
   "nbconvert_exporter": "python",
   "pygments_lexer": "ipython3",
   "version": "3.7.1"
  }
 },
 "nbformat": 4,
 "nbformat_minor": 2
}
