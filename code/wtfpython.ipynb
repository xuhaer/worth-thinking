{
 "cells": [
  {
   "cell_type": "markdown",
   "metadata": {},
   "source": [
    "## 相当于是一个阅读笔记吧，会将[wtfpython: A collection of surprising Python snippets and lesser-known features](https://github.com/satwikkansal/wtfpython) (中文版: [中文](https://github.com/leisurelicht/wtfpython-cn))中遇到一些我认为值得思考的代码片段记下来。"
   ]
  },
  {
   "cell_type": "markdown",
   "metadata": {},
   "source": [
    "## Section: Strain your brain!"
   ]
  },
  {
   "cell_type": "markdown",
   "metadata": {},
   "source": [
    "### >  Return return everywhere!"
   ]
  },
  {
   "cell_type": "code",
   "execution_count": 1,
   "metadata": {},
   "outputs": [],
   "source": [
    "def some_func():\n",
    "    try:\n",
    "        return 'from_try'\n",
    "    finally:\n",
    "        return 'from_finally'"
   ]
  },
  {
   "cell_type": "code",
   "execution_count": 2,
   "metadata": {},
   "outputs": [
    {
     "data": {
      "text/plain": [
       "'from_finally'"
      ]
     },
     "execution_count": 2,
     "metadata": {},
     "output_type": "execute_result"
    }
   ],
   "source": [
    "some_func()"
   ]
  },
  {
   "cell_type": "markdown",
   "metadata": {},
   "source": [
    "<hr>\n",
    "💡\n",
    "* <font color='red'>\"try...finally\" 语句的 try 中执行 return, break 或 continue 后, finally 子句依然会执行.</font>\n",
    "* 函数的返回值由最后执行的 return 语句决定. 所以 finally 子句中的 return 将是最后执行的语句.\n",
    "\n",
    "也就是说，尽量避免在try语句中写return语句(毕竟try 语句仅用来处理有可能出错的代码).\n",
    "\n",
    "另外，一些语言(如C#)会禁止你在finally 语句中 return."
   ]
  },
  {
   "cell_type": "markdown",
   "metadata": {},
   "source": [
    "### > For what?"
   ]
  },
  {
   "cell_type": "code",
   "execution_count": 3,
   "metadata": {},
   "outputs": [],
   "source": [
    "some_string = \"wtf\"\n",
    "some_dict = {}\n",
    "for i, some_dict[i] in enumerate(some_string):\n",
    "    pass"
   ]
  },
  {
   "cell_type": "code",
   "execution_count": 4,
   "metadata": {},
   "outputs": [
    {
     "data": {
      "text/plain": [
       "{0: 'w', 1: 't', 2: 'f'}"
      ]
     },
     "execution_count": 4,
     "metadata": {},
     "output_type": "execute_result"
    }
   ],
   "source": [
    "some_dict"
   ]
  },
  {
   "cell_type": "markdown",
   "metadata": {},
   "source": [
    "<hr>\n",
    "💡\n",
    "Python 语法 中对 for 的定义是:`for_stmt: 'for' exprlist 'in' testlist ':' suite ['else' ':' suite]`\n",
    "\n",
    "其中 exprlist 指分配目标. 这意味着对可迭代对象中的每一项都会执行类似 {exprlist} = {next_value} 的操作. 在上例中，每次循环都有some_dict[i] = enumerate(some_string)产生的字符串, 即 some_dict[0] = 'w', ...... "
   ]
  },
  {
   "cell_type": "markdown",
   "metadata": {},
   "source": [
    "一个例子：该循环只循环一次？"
   ]
  },
  {
   "cell_type": "code",
   "execution_count": 5,
   "metadata": {},
   "outputs": [
    {
     "name": "stdout",
     "output_type": "stream",
     "text": [
      "0\n",
      "1\n",
      "2\n",
      "3\n"
     ]
    }
   ],
   "source": [
    "for i in range(4):\n",
    "    print(i)\n",
    "    i = 10"
   ]
  },
  {
   "cell_type": "markdown",
   "metadata": {},
   "source": [
    "### > Evaluation time discrepancy/执行时机差异"
   ]
  },
  {
   "cell_type": "code",
   "execution_count": 6,
   "metadata": {},
   "outputs": [
    {
     "data": {
      "text/plain": [
       "[8]"
      ]
     },
     "execution_count": 6,
     "metadata": {},
     "output_type": "execute_result"
    }
   ],
   "source": [
    "array = [1, 8, 15]\n",
    "g = (x for x in array if array.count(x) == 1)\n",
    "array = [2, 8, 22]\n",
    "\n",
    "list(g)"
   ]
  },
  {
   "cell_type": "code",
   "execution_count": 7,
   "metadata": {},
   "outputs": [
    {
     "name": "stdout",
     "output_type": "stream",
     "text": [
      "[1, 2, 3, 4]\n",
      "[1, 2, 3, 4, 5]\n"
     ]
    }
   ],
   "source": [
    "array_1 = [1,2,3,4]\n",
    "g1 = (x for x in array_1)\n",
    "array_1 = [1,2,3,4,5]\n",
    "\n",
    "array_2 = [1,2,3,4]\n",
    "g2 = (x for x in array_2)\n",
    "array_2[:] = [1,2,3,4,5]\n",
    "\n",
    "print(list(g1))\n",
    "print(list(g2))"
   ]
  },
  {
   "cell_type": "markdown",
   "metadata": {},
   "source": [
    "💡 \n",
    "\n",
    "* 在生成器表达式中, in 子句在声明时执行, 而条件子句则是在运行时执行.\n",
    "* 所以在运行前, array 已经被重新赋值为 [2, 8, 22], 因此对于之前的 1, 8 和 15, 只有 count(8) 的结果是等于 1 的, 所以生成器只会生成 8. <font color='red'>???</font>\n",
    "* 第二部分中 g1 和 g2 的输出差异则是由于变量 array_1 和 array_2 被重新赋值的方式导致的.\n",
    "* 在第一种情况下, array_1 被绑定到新对象 [1,2,3,4,5], 因为 in 子句是在声明时被执行的， 所以它仍然引用旧对象 [1,2,3,4](并没有被销毁).\n",
    "* 在第二种情况下, 对 array_2 的切片赋值将相同的旧对象 [1,2,3,4] 原地更新为 [1,2,3,4,5]. 因此 g2 和 array_2 仍然引用同一个对象(这个对象现在已经更新为 [1,2,3,4,5])."
   ]
  },
  {
   "cell_type": "markdown",
   "metadata": {},
   "source": [
    "### > What's wrong with booleans?"
   ]
  },
  {
   "cell_type": "code",
   "execution_count": 8,
   "metadata": {},
   "outputs": [],
   "source": [
    "# 一个简单的例子, 统计下面可迭代对象中的布尔型值的个数和整型值的个数\n",
    "mixed_list = [False, 1.0, \"some_string\", 3, True, [], False]\n",
    "integers_found_so_far = 0\n",
    "booleans_found_so_far = 0\n",
    "\n",
    "for item in mixed_list:\n",
    "    if isinstance(item, int):\n",
    "        integers_found_so_far += 1\n",
    "    elif isinstance(item, bool):\n",
    "        booleans_found_so_far += 1"
   ]
  },
  {
   "cell_type": "code",
   "execution_count": 9,
   "metadata": {},
   "outputs": [
    {
     "data": {
      "text/plain": [
       "(4, 0)"
      ]
     },
     "execution_count": 9,
     "metadata": {},
     "output_type": "execute_result"
    }
   ],
   "source": [
    "integers_found_so_far, booleans_found_so_far"
   ]
  },
  {
   "cell_type": "code",
   "execution_count": 10,
   "metadata": {},
   "outputs": [],
   "source": [
    "another_dict = {}\n",
    "another_dict[True] = \"JavaScript\"\n",
    "another_dict[1] = \"Ruby\"\n",
    "another_dict[1.0] = \"Python\""
   ]
  },
  {
   "cell_type": "code",
   "execution_count": 11,
   "metadata": {},
   "outputs": [
    {
     "data": {
      "text/plain": [
       "'Python'"
      ]
     },
     "execution_count": 11,
     "metadata": {},
     "output_type": "execute_result"
    }
   ],
   "source": [
    "another_dict[True]"
   ]
  },
  {
   "cell_type": "code",
   "execution_count": 12,
   "metadata": {},
   "outputs": [
    {
     "data": {
      "text/plain": [
       "''"
      ]
     },
     "execution_count": 12,
     "metadata": {},
     "output_type": "execute_result"
    }
   ],
   "source": [
    ">>> some_bool = True\n",
    ">>> \"wtf\"*some_bool\n",
    "'wtf'\n",
    ">>> some_bool = False\n",
    ">>> \"wtf\"*some_bool\n",
    "''"
   ]
  },
  {
   "cell_type": "markdown",
   "metadata": {},
   "source": [
    "💡\n",
    "* 布尔值是 int 的子类\n",
    "* 所以 True 的整数值是 1, 而 False 的整数值是 0."
   ]
  },
  {
   "cell_type": "markdown",
   "metadata": {},
   "source": [
    "### > Mutating the immutable"
   ]
  },
  {
   "cell_type": "code",
   "execution_count": 13,
   "metadata": {},
   "outputs": [],
   "source": [
    "some_tuple = (\"A\", \"tuple\", \"with\", \"values\")\n",
    "another_tuple = ([1, 2], [3, 4], [5, 6])"
   ]
  },
  {
   "cell_type": "code",
   "execution_count": 14,
   "metadata": {},
   "outputs": [
    {
     "ename": "TypeError",
     "evalue": "'tuple' object does not support item assignment",
     "output_type": "error",
     "traceback": [
      "\u001b[0;31m---------------------------------------------------------------------------\u001b[0m",
      "\u001b[0;31mTypeError\u001b[0m                                 Traceback (most recent call last)",
      "\u001b[0;32m<ipython-input-14-c4a1bb954614>\u001b[0m in \u001b[0;36m<module>\u001b[0;34m()\u001b[0m\n\u001b[0;32m----> 1\u001b[0;31m \u001b[0msome_tuple\u001b[0m\u001b[0;34m[\u001b[0m\u001b[0;36m2\u001b[0m\u001b[0;34m]\u001b[0m \u001b[0;34m=\u001b[0m \u001b[0;34m\"change this\"\u001b[0m\u001b[0;34m\u001b[0m\u001b[0;34m\u001b[0m\u001b[0m\n\u001b[0m",
      "\u001b[0;31mTypeError\u001b[0m: 'tuple' object does not support item assignment"
     ]
    }
   ],
   "source": [
    "some_tuple[2] = \"change this\""
   ]
  },
  {
   "cell_type": "code",
   "execution_count": 15,
   "metadata": {},
   "outputs": [],
   "source": [
    "another_tuple[2].append(1000) # 这里不出现错误"
   ]
  },
  {
   "cell_type": "code",
   "execution_count": 16,
   "metadata": {},
   "outputs": [
    {
     "data": {
      "text/plain": [
       "([1, 2], [3, 4], [5, 6, 1000])"
      ]
     },
     "execution_count": 16,
     "metadata": {},
     "output_type": "execute_result"
    }
   ],
   "source": [
    "another_tuple"
   ]
  },
  {
   "cell_type": "code",
   "execution_count": 17,
   "metadata": {},
   "outputs": [
    {
     "ename": "TypeError",
     "evalue": "'tuple' object does not support item assignment",
     "output_type": "error",
     "traceback": [
      "\u001b[0;31m---------------------------------------------------------------------------\u001b[0m",
      "\u001b[0;31mTypeError\u001b[0m                                 Traceback (most recent call last)",
      "\u001b[0;32m<ipython-input-17-9265ffc24d6e>\u001b[0m in \u001b[0;36m<module>\u001b[0;34m()\u001b[0m\n\u001b[0;32m----> 1\u001b[0;31m \u001b[0manother_tuple\u001b[0m\u001b[0;34m[\u001b[0m\u001b[0;36m2\u001b[0m\u001b[0;34m]\u001b[0m \u001b[0;34m+=\u001b[0m \u001b[0;34m[\u001b[0m\u001b[0;36m99\u001b[0m\u001b[0;34m,\u001b[0m \u001b[0;36m999\u001b[0m\u001b[0;34m]\u001b[0m\u001b[0;34m\u001b[0m\u001b[0;34m\u001b[0m\u001b[0m\n\u001b[0m",
      "\u001b[0;31mTypeError\u001b[0m: 'tuple' object does not support item assignment"
     ]
    }
   ],
   "source": [
    "another_tuple[2] += [99, 999]"
   ]
  },
  {
   "cell_type": "code",
   "execution_count": 18,
   "metadata": {},
   "outputs": [
    {
     "data": {
      "text/plain": [
       "([1, 2], [3, 4], [5, 6, 1000, 99, 999])"
      ]
     },
     "execution_count": 18,
     "metadata": {},
     "output_type": "execute_result"
    }
   ],
   "source": [
    "another_tuple"
   ]
  },
  {
   "cell_type": "markdown",
   "metadata": {},
   "source": [
    "💡 \n",
    "* 不可变序列 不可变序列的对象一旦创建就不能再改变. (如果对象包含对其他对象的引用，则这些其他对象可能是可变的并且可能会被修改; 但是，由不可变对象直接引用的对象集合不能更改.)\n",
    "* += 操作符在原地修改了列表. 元素赋值操作并不工作, 但是当异常抛出时, 元素已经在原地被修改了."
   ]
  },
  {
   "cell_type": "markdown",
   "metadata": {},
   "source": [
    "补充: 对于+=这个运算符,如a+=b:\n",
    "\n",
    "* 对于可变对象(mutable object)如list, +=操作的结果会直接在a对应的变量进行修改，而a对应的地址不变.\n",
    "* 对于不可变对象(imutable object)如tuple, +=则是等价于a = a+b 会产生新的变量，然后绑定到a上而已.\n",
    "\n",
    "对于tuple:\n",
    "* tuple内部的元素不支持赋值操作\n",
    "* 在第一条的基础上, 如果元素的id没有变化, 元素其实是可以改变的.\n",
    "\n",
    "详细解释可以看[这里](https://segmentfault.com/a/1190000010767068)"
   ]
  },
  {
   "cell_type": "markdown",
   "metadata": {},
   "source": [
    "## Section: Appearances are deceptive!"
   ]
  },
  {
   "cell_type": "code",
   "execution_count": 19,
   "metadata": {},
   "outputs": [
    {
     "data": {
      "text/plain": [
       "11"
      ]
     },
     "execution_count": 19,
     "metadata": {},
     "output_type": "execute_result"
    }
   ],
   "source": [
    "value = 11\n",
    "valuе = 32\n",
    "value"
   ]
  },
  {
   "cell_type": "markdown",
   "metadata": {},
   "source": [
    "💡\n",
    "一些非西方字符虽然看起来和英语字母相同, 但会被解释器识别为不同的字母. 🤡"
   ]
  },
  {
   "cell_type": "code",
   "execution_count": 20,
   "metadata": {},
   "outputs": [
    {
     "data": {
      "text/plain": [
       "1077"
      ]
     },
     "execution_count": 20,
     "metadata": {},
     "output_type": "execute_result"
    }
   ],
   "source": [
    "ord('е') # 西里尔语的 'e' (Ye)"
   ]
  },
  {
   "cell_type": "code",
   "execution_count": 21,
   "metadata": {},
   "outputs": [
    {
     "data": {
      "text/plain": [
       "101"
      ]
     },
     "execution_count": 21,
     "metadata": {},
     "output_type": "execute_result"
    }
   ],
   "source": [
    "ord('e') # ascii的 'e', 用于英文并使用标准键盘输入"
   ]
  },
  {
   "cell_type": "code",
   "execution_count": 22,
   "metadata": {},
   "outputs": [],
   "source": [
    "import numpy as np\n",
    "\n",
    "def energy_send(x):\n",
    "    # 初始化一个 numpy 数组\n",
    "    np.array([float(x)])\n",
    "\n",
    "def energy_receive():\n",
    "    # 返回一个空的 numpy 数组\n",
    "    return np.empty((), dtype=np.float).tolist()"
   ]
  },
  {
   "cell_type": "code",
   "execution_count": 23,
   "metadata": {},
   "outputs": [
    {
     "data": {
      "text/plain": [
       "123.456"
      ]
     },
     "execution_count": 23,
     "metadata": {},
     "output_type": "execute_result"
    }
   ],
   "source": [
    "energy_send(123.456)\n",
    "energy_receive()"
   ]
  },
  {
   "cell_type": "markdown",
   "metadata": {},
   "source": [
    "💡\n",
    "注意在 energy_send 函数中创建的 numpy 数组并没有返回, 因此内存空间被释放并可以被重新分配.\n",
    "numpy.empty() 直接返回下一段空闲内存，而不重新初始化. 而这个内存点恰好就是刚刚释放的那个(通常情况下, 并不绝对)."
   ]
  },
  {
   "cell_type": "markdown",
   "metadata": {},
   "source": [
    "## Section: Watch out for the landmines!"
   ]
  },
  {
   "cell_type": "markdown",
   "metadata": {},
   "source": [
    "### > Stubborn del operato"
   ]
  },
  {
   "cell_type": "code",
   "execution_count": 24,
   "metadata": {},
   "outputs": [
    {
     "data": {
      "text/plain": [
       "<__main__.SomeClass at 0x107c538d0>"
      ]
     },
     "execution_count": 24,
     "metadata": {},
     "output_type": "execute_result"
    }
   ],
   "source": [
    "# 24 ~ 26 在ipython kernel下不能实现\n",
    "class SomeClass:\n",
    "    def __del__(self):\n",
    "        print(\"Deleted!\")\n",
    "\n",
    "x = SomeClass()\n",
    "y = x\n",
    "del x\n",
    "y # 检查一下y是否存在"
   ]
  },
  {
   "cell_type": "code",
   "execution_count": 25,
   "metadata": {},
   "outputs": [],
   "source": [
    "del y # 这里应该会输出 \"Deleted!\"\n",
    "# 执行 globals 然后会打印 \"Deleted\""
   ]
  },
  {
   "cell_type": "markdown",
   "metadata": {},
   "source": [
    "💡\n",
    "* del x 并不会立刻调用 x.__del__().\n",
    "* 每当遇到 del x, Python 会将 x 的引用数减1, 当 x 的引用数减到0时就会调用 x.__del__().\n",
    "* 调用 globals 导致引用被销毁, 因此我们可以看到 \"Deleted!\" 终于被输出了."
   ]
  },
  {
   "cell_type": "code",
   "execution_count": 26,
   "metadata": {},
   "outputs": [
    {
     "name": "stdout",
     "output_type": "stream",
     "text": [
      "idx: 0 list: [1, 2, 3, 4]\n",
      "idx: 1 list: [2, 3, 4]\n"
     ]
    }
   ],
   "source": [
    "list_1, list_2 = [1, 2, 3, 4],  [1, 2, 3, 4]\n",
    "\n",
    "for idx, item in enumerate(list_1[:]):\n",
    "    list_1.remove(item)\n",
    "\n",
    "for idx, item in enumerate(list_2):\n",
    "    print('idx:', idx, 'list:', list_2)\n",
    "    list_2.pop(idx)"
   ]
  },
  {
   "cell_type": "code",
   "execution_count": 27,
   "metadata": {},
   "outputs": [
    {
     "data": {
      "text/plain": [
       "[]"
      ]
     },
     "execution_count": 27,
     "metadata": {},
     "output_type": "execute_result"
    }
   ],
   "source": [
    "list_1"
   ]
  },
  {
   "cell_type": "code",
   "execution_count": 28,
   "metadata": {},
   "outputs": [
    {
     "data": {
      "text/plain": [
       "[2, 4]"
      ]
     },
     "execution_count": 28,
     "metadata": {},
     "output_type": "execute_result"
    }
   ],
   "source": [
    "list_2"
   ]
  },
  {
   "cell_type": "markdown",
   "metadata": {},
   "source": [
    "💡\n",
    "* 在迭代时修改对象是一个很愚蠢的主意. 正确的做法是迭代对象的副本, list_1[:] 就是这么做的."
   ]
  },
  {
   "cell_type": "markdown",
   "metadata": {},
   "source": [
    "### > Loop variables leaking out!"
   ]
  },
  {
   "cell_type": "code",
   "execution_count": 29,
   "metadata": {},
   "outputs": [
    {
     "name": "stdout",
     "output_type": "stream",
     "text": [
      "6 : for x inside loop\n",
      "6 : x in global\n"
     ]
    }
   ],
   "source": [
    "x = -1\n",
    "for x in range(7):\n",
    "    if x == 6:\n",
    "        print(x, ': for x inside loop')\n",
    "print(x, ': x in global')"
   ]
  },
  {
   "cell_type": "code",
   "execution_count": 30,
   "metadata": {},
   "outputs": [
    {
     "name": "stdout",
     "output_type": "stream",
     "text": [
      "[0, 1, 2, 3, 4]\n",
      "-1 : x in global\n"
     ]
    }
   ],
   "source": [
    "x = -1\n",
    "print([x for x in range(5)])\n",
    "print(x, ': x in global')"
   ]
  },
  {
   "cell_type": "markdown",
   "metadata": {},
   "source": [
    "💡\n",
    "* 在 Python 中, for 循环使用所在作用域并在结束后保留定义的循环变量. 如果我们曾在全局命名空间中定义过循环变量. 在这种情况下, 它会重新绑定现有变量.\n",
    "* 另外, 注意列表推导具有不同的语义: 它们更接近于 list() 构造函数中生成器表达式的语法躺."
   ]
  },
  {
   "cell_type": "markdown",
   "metadata": {},
   "source": [
    "### > Beware of default mutable arguments!"
   ]
  },
  {
   "cell_type": "code",
   "execution_count": 1,
   "metadata": {},
   "outputs": [],
   "source": [
    "def foo(color=['red']):\n",
    "    color.append('blue')\n",
    "    return color"
   ]
  },
  {
   "cell_type": "code",
   "execution_count": 2,
   "metadata": {},
   "outputs": [
    {
     "data": {
      "text/plain": [
       "['red', 'blue']"
      ]
     },
     "execution_count": 2,
     "metadata": {},
     "output_type": "execute_result"
    }
   ],
   "source": [
    "foo()"
   ]
  },
  {
   "cell_type": "code",
   "execution_count": 3,
   "metadata": {},
   "outputs": [
    {
     "data": {
      "text/plain": [
       "['red', 'blue', 'blue']"
      ]
     },
     "execution_count": 3,
     "metadata": {},
     "output_type": "execute_result"
    }
   ],
   "source": [
    "foo()"
   ]
  },
  {
   "cell_type": "markdown",
   "metadata": {},
   "source": [
    "💡\n",
    "* Python中函数的默认<font color='red'>可变</font>参数并不是每次调用该函数时都会被初始化. 相反, 它们会使用最近分配的值作为默认值. 而当我们明确的将 [] 作为参数传递给 foo 的时候, 就不会使用 color 的默认值.\n",
    "* 避免可变参数导致的错误的常见做法是将 None 指定为参数的默认值, 然后检查是否有值传给对应的参数."
   ]
  },
  {
   "cell_type": "markdown",
   "metadata": {},
   "source": [
    "### > Be careful with chained operations!"
   ]
  },
  {
   "cell_type": "code",
   "execution_count": 4,
   "metadata": {},
   "outputs": [
    {
     "data": {
      "text/plain": [
       "False"
      ]
     },
     "execution_count": 4,
     "metadata": {},
     "output_type": "execute_result"
    }
   ],
   "source": [
    "False == (False in [False])"
   ]
  },
  {
   "cell_type": "code",
   "execution_count": 5,
   "metadata": {},
   "outputs": [
    {
     "data": {
      "text/plain": [
       "True"
      ]
     },
     "execution_count": 5,
     "metadata": {},
     "output_type": "execute_result"
    }
   ],
   "source": [
    "# 注意!\n",
    "False == False in [False]"
   ]
  },
  {
   "cell_type": "code",
   "execution_count": 6,
   "metadata": {},
   "outputs": [
    {
     "data": {
      "text/plain": [
       "True"
      ]
     },
     "execution_count": 6,
     "metadata": {},
     "output_type": "execute_result"
    }
   ],
   "source": [
    "False is False is False"
   ]
  },
  {
   "cell_type": "code",
   "execution_count": 7,
   "metadata": {},
   "outputs": [
    {
     "data": {
      "text/plain": [
       "True"
      ]
     },
     "execution_count": 7,
     "metadata": {},
     "output_type": "execute_result"
    }
   ],
   "source": [
    "1 > 0 < 1"
   ]
  },
  {
   "cell_type": "code",
   "execution_count": 8,
   "metadata": {},
   "outputs": [
    {
     "data": {
      "text/plain": [
       "False"
      ]
     },
     "execution_count": 8,
     "metadata": {},
     "output_type": "execute_result"
    }
   ],
   "source": [
    "(1 > 0) < 1"
   ]
  },
  {
   "cell_type": "markdown",
   "metadata": {},
   "source": [
    "💡想想以下的结果是什么：\n",
    "* `0 <= x <= 100`\n",
    "* 另外：`int(False)` 的结果为 0"
   ]
  },
  {
   "cell_type": "markdown",
   "metadata": {},
   "source": [
    "### > Name resolution ignoring class scope/忽略类作用域的名称解析"
   ]
  },
  {
   "cell_type": "code",
   "execution_count": 9,
   "metadata": {},
   "outputs": [],
   "source": [
    "x = 5\n",
    "class SomeClass:\n",
    "    x = 17\n",
    "    y = (x for i in range(10))"
   ]
  },
  {
   "cell_type": "code",
   "execution_count": 10,
   "metadata": {},
   "outputs": [
    {
     "data": {
      "text/plain": [
       "5"
      ]
     },
     "execution_count": 10,
     "metadata": {},
     "output_type": "execute_result"
    }
   ],
   "source": [
    "list(SomeClass.y)[0]"
   ]
  },
  {
   "cell_type": "code",
   "execution_count": 11,
   "metadata": {},
   "outputs": [],
   "source": [
    "x = 5\n",
    "class SomeClass:\n",
    "    x = 17\n",
    "    y = [x for i in range(10)]"
   ]
  },
  {
   "cell_type": "code",
   "execution_count": 12,
   "metadata": {},
   "outputs": [
    {
     "data": {
      "text/plain": [
       "5"
      ]
     },
     "execution_count": 12,
     "metadata": {},
     "output_type": "execute_result"
    }
   ],
   "source": [
    "SomeClass.y[0]"
   ]
  },
  {
   "cell_type": "markdown",
   "metadata": {},
   "source": [
    "💡\n",
    "* 类定义中嵌套的作用域会忽略类内的名称绑定.\n",
    "* 生成器表达式有它自己的作用域.\n",
    "* 列表推导式也有自己的作用域."
   ]
  },
  {
   "cell_type": "code",
   "execution_count": null,
   "metadata": {},
   "outputs": [],
   "source": []
  }
 ],
 "metadata": {
  "kernelspec": {
   "display_name": "data_analysis",
   "language": "python",
   "name": "data_analysis"
  },
  "language_info": {
   "codemirror_mode": {
    "name": "ipython",
    "version": 3
   },
   "file_extension": ".py",
   "mimetype": "text/x-python",
   "name": "python",
   "nbconvert_exporter": "python",
   "pygments_lexer": "ipython3",
   "version": "3.7.1"
  }
 },
 "nbformat": 4,
 "nbformat_minor": 2
}
